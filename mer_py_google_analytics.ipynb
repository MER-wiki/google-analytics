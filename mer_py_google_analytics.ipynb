{
 "metadata": {
  "name": "",
  "signature": "sha256:83fccfc5fb814ea973d2569559fdfdb2c944ff7d016b28b1395439559fd3e953"
 },
 "nbformat": 3,
 "nbformat_minor": 0,
 "worksheets": [
  {
   "cells": [
    {
     "cell_type": "markdown",
     "metadata": {},
     "source": [
      "# Overview of usage data for the Math Exam Resources Wiki"
     ]
    },
    {
     "cell_type": "markdown",
     "metadata": {},
     "source": [
      "<table border=\"0\">\n",
      "<tr>\n",
      "<th> Main page: </th> <td> <a href=\"http://wiki.ubc.ca/Science:Math_Education_Resources\"> wiki.ubc.ca/Science:Math_Education_Resources </a> </td>\n",
      "<td rowspan=\"4\"> <img src=\"https://raw.github.com/MER-wiki/google-analytics/master/Math_kid.jpg\" width=290> </td>\n",
      "</tr>\n",
      "<tr>\n",
      "<th> Contributors portal: </th> <td> <a href=\"http://wiki.ubc.ca/Science:MER\"> wiki.ubc.ca/Science:MER </a>       </td>\n",
      "</tr>\n",
      "<tr>\n",
      "<th> Source of data: </th> <td> google-analytics from CTLT </td>\n",
      "</tr>    \n",
      "<th> Contact info: </th> <td> mer-wiki (at) math (dot) ubc (dot) ca </td>\n",
      "</tr>\n",
      "</table>"
     ]
    },
    {
     "cell_type": "markdown",
     "metadata": {},
     "source": [
      "#### Technical background\n",
      "\n",
      "The python helper function are in their own py file to keep this summary relatively readable."
     ]
    },
    {
     "cell_type": "code",
     "collapsed": false,
     "input": [
      "%%capture\n",
      "import numpy as np\n",
      "import matplotlib.pyplot as plt\n",
      "%pylab inline\n",
      "from MERhelpers import *\n",
      "\n",
      "#Define primary wiki colours\n",
      "mainColour = '#2F4F4F';\n",
      "secondColour1 = '#666666';\n",
      "secondColour2 = '#7491A3';\n",
      "\n",
      "#XKCD-ify the plots\n",
      "matplotlib.pyplot.xkcd(scale=0.5, length=100, randomness=5)\n",
      "matplotlib.rcParams['axes.color_cycle'] = [mainColour,secondColour1, secondColour2]\n",
      "matplotlib.rcParams['font.size'] = 10"
     ],
     "language": "python",
     "metadata": {},
     "outputs": [
      {
       "ename": "IndentationError",
       "evalue": "unindent does not match any outer indentation level (MERhelpers.py, line 318)",
       "output_type": "pyerr",
       "traceback": [
        "\u001b[0;36m  File \u001b[0;32m\"MERhelpers.py\"\u001b[0;36m, line \u001b[0;32m318\u001b[0m\n\u001b[0;31m    row = reader.next();\u001b[0m\n\u001b[0m                        ^\u001b[0m\n\u001b[0;31mIndentationError\u001b[0m\u001b[0;31m:\u001b[0m unindent does not match any outer indentation level\n"
       ]
      }
     ],
     "prompt_number": 1
    },
    {
     "cell_type": "markdown",
     "metadata": {},
     "source": [
      "Load data set, then do some clean up to reduce down to only valid course names."
     ]
    },
    {
     "cell_type": "code",
     "collapsed": false,
     "input": [
      "dict_all,date_clicks,num_clicks = data_to_dict_clickdates_clickscount('MER_20140430.csv')\n",
      "clean_dict(dict_all,['MATH100','MATH101','MATH102','MATH103','MATH104','MATH105','MATH110','MATH152',\n",
      "                     'MATH200','MATH215','MATH220','MATH221','MATH253','MATH257',\n",
      "                     'MATH307','MATH312','MATH437'])\n",
      "current_term_dict = dict(dict_all)\n",
      "clean_dict(current_term_dict,['MATH101','MATH103','MATH105','MATH110','MATH152','MATH215','MATH220'])"
     ],
     "language": "python",
     "metadata": {},
     "outputs": []
    },
    {
     "cell_type": "markdown",
     "metadata": {},
     "source": [
      "## Total number of clicks"
     ]
    },
    {
     "cell_type": "markdown",
     "metadata": {},
     "source": [
      "Total time series, with the dates of the exams highlighted."
     ]
    },
    {
     "cell_type": "code",
     "collapsed": false,
     "input": [
      "plt.figure(figsize(16,4))\n",
      "plot_total_clicks_time_series(date_clicks, num_clicks,False)\n",
      "plt.savefig('total_number_of_clicks_time_series.png',bbox_inches='tight')\n",
      "plt.figure(figsize(16,4))\n",
      "plot_total_clicks_time_series(date_clicks, num_clicks,True)"
     ],
     "language": "python",
     "metadata": {},
     "outputs": []
    },
    {
     "cell_type": "markdown",
     "metadata": {},
     "source": [
      "Same data (except summer terms) overlayed for comparison."
     ]
    },
    {
     "cell_type": "code",
     "collapsed": false,
     "input": [
      "Term2_2011 = num_clicks[date_clicks.index('1/1/12'):date_clicks.index('5/1/12')]\n",
      "Term1_2012 = num_clicks[date_clicks.index('9/1/12'):date_clicks.index('1/1/13')]\n",
      "Term2_2012 = num_clicks[date_clicks.index('1/1/13'):date_clicks.index('5/1/13')]\n",
      "Term1_2013 = num_clicks[date_clicks.index('9/1/13'):date_clicks.index('1/1/14')]\n",
      "Term2_2013 = num_clicks[date_clicks.index('1/1/14'):date_clicks.index('4/30/14')]\n",
      "\n",
      "Finals_Term2_2011 = num_clicks[date_clicks.index('4/1/12'):date_clicks.index('5/1/12')]\n",
      "Finals_Term1_2012 = num_clicks[date_clicks.index('12/1/12'):date_clicks.index('1/1/13')]\n",
      "Finals_Term2_2012 = num_clicks[date_clicks.index('4/1/13'):date_clicks.index('5/1/13')]\n",
      "Finals_Term1_2013 = num_clicks[date_clicks.index('12/1/13'):date_clicks.index('1/1/14')]\n",
      "Finals_Term2_2013 = num_clicks[date_clicks.index('4/1/14'):date_clicks.index('4/30/14')]\n",
      "\n",
      "Non_Finals_Term2_2011 = sum(Term2_2011)-sum(Finals_Term2_2011)\n",
      "Non_Finals_Term1_2012 = sum(Term1_2012)-sum(Finals_Term1_2012)\n",
      "Non_Finals_Term2_2012 = sum(Term2_2012)-sum(Finals_Term2_2012)\n",
      "Non_Finals_Term1_2013 = sum(Term1_2013)-sum(Finals_Term1_2013)\n",
      "Non_Finals_Term2_2013 = sum(Term2_2013)-sum(Finals_Term2_2013)"
     ],
     "language": "python",
     "metadata": {},
     "outputs": []
    },
    {
     "cell_type": "markdown",
     "metadata": {},
     "source": [
      "Total number of clicks, during term and finals"
     ]
    },
    {
     "cell_type": "code",
     "collapsed": false,
     "input": [
      "fig = plt.figure(figsize(8,4))\n",
      "ax = fig.add_subplot(111)\n",
      "plt.bar(np.arange(15),[Non_Finals_Term2_2011, sum(Finals_Term2_2011),sum(Term2_2011), Non_Finals_Term1_2012, sum(Finals_Term1_2012), sum(Term1_2012), Non_Finals_Term2_2012, sum(Finals_Term2_2012), sum(Term2_2012), Non_Finals_Term1_2013, sum(Finals_Term1_2013), sum(Term1_2013), Non_Finals_Term2_2013, sum(Finals_Term2_2013), sum(Term2_2013)], \n",
      "        color=[mainColour,mainColour,mainColour,secondColour2,secondColour2,secondColour2])\n",
      "xTickMarks = ['Jan-Mar 2012','Apr 2012', 'Term (11-2)','Sep-Nov 2012', 'Dec 2012','Term (12-1)','Jan-Mar 2013','Apr 2013','Term (12-2)','Sep-Nov 2013', 'Dec 2013','Term (13-1)', 'Jan-Mar 2014', 'Apr 2014', 'Term (13-2)']\n",
      "ind = np.arange(15)\n",
      "ax.set_xticks(ind+0.35)\n",
      "xtickNames = ax.set_xticklabels(xTickMarks)\n",
      "plt.ylabel('(thousands)', size='x-large')\n",
      "plt.setp(xtickNames, rotation=80, fontsize=14)\n",
      "plt.title('Total number of clicks during term and finals',size=14)\n",
      "\n",
      "plt.gca().set_yticklabels(['0','50','100','150','200','250', '300', '350', '400', '450'],size='x-large')\n",
      "\n",
      "handles, labels = ax.get_legend_handles_labels()\n",
      "\n",
      "plt.savefig('total_number_of_clicks_term_finals_bar.png', bbox_inches='tight')\n",
      "plt.show()"
     ],
     "language": "python",
     "metadata": {},
     "outputs": []
    },
    {
     "cell_type": "code",
     "collapsed": false,
     "input": [
      "print 'Term 2, 2011:', sum(Term2_2011), 'clicks'\n",
      "print 'Term 1, 2012:', sum(Term1_2012), 'clicks'\n",
      "print 'Term 2, 2012:', sum(Term2_2012), 'clicks'\n",
      "print 'Term 1, 2013:', sum(Term1_2013), 'clicks'\n",
      "print 'Term 2, 2013:', sum(Term2_2013), 'clicks' "
     ],
     "language": "python",
     "metadata": {},
     "outputs": []
    },
    {
     "cell_type": "markdown",
     "metadata": {},
     "source": [
      "## Where do users spend their time?"
     ]
    },
    {
     "cell_type": "code",
     "collapsed": false,
     "input": [
      "matplotlib.rcParams['font.size'] = 16\n",
      "\n",
      "plt.figure(figsize(8,8))\n",
      "plot_pie_chart_time_spent_on_course(dict_all,0.02,[mainColour,secondColour1,secondColour2])\n",
      "plt.savefig('total_time_per_course.png', bbox_inches='tight')  \n",
      "plt.show()"
     ],
     "language": "python",
     "metadata": {},
     "outputs": []
    },
    {
     "cell_type": "markdown",
     "metadata": {},
     "source": [
      "### Clicks per exam"
     ]
    },
    {
     "cell_type": "markdown",
     "metadata": {},
     "source": [
      "How many previous exams do students use to prepare? We would expect the most recent exam to have the most visits. However, some exam were uploaded later."
     ]
    },
    {
     "cell_type": "code",
     "collapsed": false,
     "input": [
      "plt.figure(figsize(15,50))\n",
      "plt.subplots_adjust(hspace=0.6)\n",
      "for count, course in enumerate(list_courses(current_term_dict)):\n",
      "    if not course in ['MATH101', 'MATH103', 'MATH105']:\n",
      "        continue\n",
      "    plt.subplot(3,1,count+1)\n",
      "    plot_visit_duration_dist(current_term_dict, course, 'bar')\n",
      "plt.subplots_adjust(left = 0.125, right= 0.9, bottom = 0.5, top = 0.9, wspace = 0.5, hspace = 0.6)\n",
      "plt.savefig('total_pageview_per_exam_101_103_105.png')"
     ],
     "language": "python",
     "metadata": {},
     "outputs": []
    },
    {
     "cell_type": "markdown",
     "metadata": {},
     "source": [
      "### Time spent on the exam, per course\n",
      "\n",
      "For each question, use the average time spent. Then add all of those for each exam. This corresponds roughly to the time an average student is working on each exam, and might be an indicator for the difficulty of the exam."
     ]
    },
    {
     "cell_type": "code",
     "collapsed": false,
     "input": [
      "total_exam_time = get_total_exam_time(current_term_dict) \n",
      "#plt.subplots_adjust(hspace=0.4) \n",
      "for count,course in enumerate(total_exam_time): \n",
      "    plt.figure(figsize(9,5))\n",
      "    print_total_exam_time(total_exam_time, course) \n",
      "    plt.savefig('total_exam_time' + str(count) + '.png')"
     ],
     "language": "python",
     "metadata": {},
     "outputs": []
    },
    {
     "cell_type": "markdown",
     "metadata": {},
     "source": [
      "### Time to solution view\n",
      "\n",
      "Using analytics provided by the UBC wiki webmasters, MER has information about the difference in time between when students load a page and click to open the question box. A cursory glance suggests two distinct groups of clicks. The first group of clicks occur at times less than 25 secs and the second group appears to have a mode of approximately 2 mins. The data is from the time period from 04/05/2014 (MM/DD/YYYY) to 05/05/2014, encompasssing the April 2014 Exam Period."
     ]
    },
    {
     "cell_type": "code",
     "collapsed": false,
     "input": [
      "import MERhelpers\n",
      "del_t = MERhelpers.load_delta_t('raw_data/Analytics wiki.ubc.ca Top Events 20140405-20140505.csv')\n",
      "del_t.extend(MERhelpers.load_delta_t('raw_data/Analytics wiki.ubc.ca Top Events 20140405-20140505-2.csv'))\n",
      "del_t.extend(MERhelpers.load_delta_t('raw_data/Analytics wiki.ubc.ca Top Events 20140405-20140505-3.csv'))\n",
      "del_t.extend(MERhelpers.load_delta_t('raw_data/Analytics wiki.ubc.ca Top Events 20140405-20140505-4.csv'))\n",
      "del_t.extend(MERhelpers.load_delta_t('raw_data/Analytics wiki.ubc.ca Top Events 20140405-20140505-5.csv'))\n",
      "del_t = np.asarray(del_t)\n",
      "        \n",
      "print 'Total counted events:', len(del_t)"
     ],
     "language": "python",
     "metadata": {},
     "outputs": []
    },
    {
     "cell_type": "code",
     "collapsed": false,
     "input": [
      "# The below look like errors, but it's only three data points, so don't worry about it.\n",
      "del_t[del_t<=0]"
     ],
     "language": "python",
     "metadata": {},
     "outputs": []
    },
    {
     "cell_type": "code",
     "collapsed": false,
     "input": [
      "plt.figure(figsize(10,4))\n",
      "plot_data = del_t[del_t>0]/1000.0\n",
      "num_bins = 60;\n",
      "plt.hist(np.log10(plot_data), num_bins, facecolor=secondColour2)\n",
      "plt.xticks(np.log10([1,5,10,25,2*60,4*60,10*60,30*60, 2*60*60, 5*60*60]),['0','5s','10s', '25s', '2m', '4m', '10m', '30m', '2h', '5h'])\n",
      "plt.xlim(0,np.log10([5*60*60]))\n",
      "plt.title('Time between loading question page and opening solution box')\n",
      "plt.ylabel('frequency.')\n",
      "plt.xlabel('time (logarithmic)')\n",
      "plt.tight_layout()\n",
      "plt.savefig('2013_Term2_delta_t.png',bbox_inches='tight')\n",
      "plt.show()"
     ],
     "language": "python",
     "metadata": {},
     "outputs": []
    }
   ],
   "metadata": {}
  }
 ]
}