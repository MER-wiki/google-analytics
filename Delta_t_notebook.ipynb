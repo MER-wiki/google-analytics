{
 "metadata": {
  "name": "",
  "signature": "sha256:0c91f2f9531fd6028c46f9913f37284fe60409235b3b8fbb80cd826a836fd220"
 },
 "nbformat": 3,
 "nbformat_minor": 0,
 "worksheets": [
  {
   "cells": [
    {
     "cell_type": "heading",
     "level": 1,
     "metadata": {},
     "source": [
      "This is the $\\Delta t$ notebook."
     ]
    },
    {
     "cell_type": "code",
     "collapsed": false,
     "input": [
      "import numpy as np\n",
      "import matplotlib.mlab as mlab\n",
      "import matplotlib.pyplot as plt\n",
      "%pylab inline"
     ],
     "language": "python",
     "metadata": {},
     "outputs": [
      {
       "output_type": "stream",
       "stream": "stdout",
       "text": [
        "Populating the interactive namespace from numpy and matplotlib\n"
       ]
      }
     ],
     "prompt_number": 1
    },
    {
     "cell_type": "code",
     "collapsed": false,
     "input": [
      "# Load the delta t data.\n",
      "import MERhelpers\n",
      "import numpy as np\n",
      "del_t = MERhelpers.load_delta_t('raw_data/Analytics wiki.ubc.ca Top Events 20140405-20140505.csv')\n",
      "del_t.extend(MERhelpers.load_delta_t('raw_data/Analytics wiki.ubc.ca Top Events 20140405-20140505-2.csv'))\n",
      "del_t.extend(MERhelpers.load_delta_t('raw_data/Analytics wiki.ubc.ca Top Events 20140405-20140505-3.csv'))\n",
      "del_t.extend(MERhelpers.load_delta_t('raw_data/Analytics wiki.ubc.ca Top Events 20140405-20140505-4.csv'))\n",
      "del_t.extend(MERhelpers.load_delta_t('raw_data/Analytics wiki.ubc.ca Top Events 20140405-20140505-5.csv'))\n",
      "del_t = np.asarray(del_t)\n",
      "        \n",
      "print 'Total counted events:', len(del_t)"
     ],
     "language": "python",
     "metadata": {},
     "outputs": [
      {
       "output_type": "stream",
       "stream": "stdout",
       "text": [
        "['', '155,645', '155,564', '0', '0.00']\n",
        "['', '155,645', '155,564', '0', '0.00']\n",
        "['', '155,645', '155,564', '0', '0.00']"
       ]
      },
      {
       "output_type": "stream",
       "stream": "stdout",
       "text": [
        "\n",
        "['', '155,645', '155,564', '0', '0.00']\n",
        "['', '155,645', '155,564', '0', '0.00']"
       ]
      },
      {
       "output_type": "stream",
       "stream": "stdout",
       "text": [
        "\n",
        "Total counted events: 155647\n"
       ]
      }
     ],
     "prompt_number": 2
    },
    {
     "cell_type": "code",
     "collapsed": false,
     "input": [
      "# The below look like errors, but it's only three data points, so don't worry about it.\n",
      "del_t[del_t<=0]"
     ],
     "language": "python",
     "metadata": {},
     "outputs": [
      {
       "metadata": {},
       "output_type": "pyout",
       "prompt_number": 3,
       "text": [
        "array([-3114379, -3246336,  -511637])"
       ]
      }
     ],
     "prompt_number": 3
    },
    {
     "cell_type": "code",
     "collapsed": false,
     "input": [
      "plt.figure(figsize(8,6))\n",
      "\n",
      "plot_data = del_t[del_t>0]/1000.0\n",
      "num_bins = 50;\n",
      "plt.hist(np.log10(plot_data), num_bins, facecolor='green')\n",
      "plt.xticks(np.log10([1,5,25,2*60,4*60,10*60,30*60, 2*60*60, 5*60*60]),['0','5s', '25s', '2m', '4m', '10m', '30m', '2h', '5h'])\n",
      "plt.xlim(0,np.log10([5*60*60]))\n",
      "plt.title('Time between loading question page and opening solution box')\n",
      "plt.ylabel('frequency')\n",
      "plt.xlabel('time (logarithmic)')\n",
      "plt.savefig('2013_Term2_delta_t.png')\n",
      "plt.show()"
     ],
     "language": "python",
     "metadata": {},
     "outputs": [
      {
       "metadata": {},
       "output_type": "display_data",
       "png": "[encoded data removed]",
       "text": [
        "<matplotlib.figure.Figure at 0x356d650>"
       ]
      }
     ],
     "prompt_number": 9
    },
    {
     "cell_type": "code",
     "collapsed": false,
     "input": [],
     "language": "python",
     "metadata": {},
     "outputs": []
    }
   ],
   "metadata": {}
  }
 ]
}