{
 "metadata": {
  "name": "",
  "signature": "sha256:1479a1f6e4684c2e98dcb2fc9866d32d9e7fdaee9ea22efd32b206e23752aa92"
 },
 "nbformat": 3,
 "nbformat_minor": 0,
 "worksheets": [
  {
   "cells": [
    {
     "cell_type": "heading",
     "level": 1,
     "metadata": {},
     "source": [
      "Correlation between average easiness rating and average time spent of a question page"
     ]
    },
    {
     "cell_type": "markdown",
     "metadata": {},
     "source": [
      "We claim that the easiness rating is correlated with the average time spent on a page: The easier the question, the less time students spend on a page.\n",
      "\n",
      "We only have 3011 total easiness votes on 712 questions (<60% of our questions have any rating), but we have abundant data on the average time spent per question page. It would be nice to _predict_ the easiness of an unrated question based on the average time spent on the corresponding question page."
     ]
    },
    {
     "cell_type": "markdown",
     "metadata": {},
     "source": [
      "To start with we define helpers that simplify our notation and analysis."
     ]
    },
    {
     "cell_type": "code",
     "collapsed": false,
     "input": [
      "import numpy as np\n",
      "import matplotlib.pyplot as plt\n",
      "%pylab inline\n",
      "from MERhelpers import data_to_dict_clickdates_clickscount, clean_dict\n",
      "\n",
      "class MERquestion:\n",
      "    def __init__(self, course, exam, question, avg_rating=None, num_votes=None, avg_time=None, exam_score=None):\n",
      "        self.course = course\n",
      "        self.exam = exam\n",
      "        self.question = question\n",
      "        self.avg_rating = avg_rating\n",
      "        self.num_votes = num_votes\n",
      "        self.avg_time = avg_time\n",
      "        self.exam_score = exam_score"
     ],
     "language": "python",
     "metadata": {},
     "outputs": [
      {
       "output_type": "stream",
       "stream": "stdout",
       "text": [
        "Populating the interactive namespace from numpy and matplotlib\n"
       ]
      }
     ],
     "prompt_number": 1
    },
    {
     "cell_type": "markdown",
     "metadata": {},
     "source": [
      "As a first step we parse and store the easiness ratings from the data file of all average ratings (obtained from [here](wiki.ubc.ca/Sandbox:MER-rating))."
     ]
    },
    {
     "cell_type": "code",
     "collapsed": false,
     "input": [
      "questions_with_rating = []\n",
      "with open('easy_time.tsv', 'r') as data:\n",
      "    for line in data:\n",
      "        course, exam, rest = line.split('/')\n",
      "        exam = exam.replace(\" \", \"_\")\n",
      "        avg_rating, num_votes = rest.split(' ')[-3:-1]\n",
      "        avg_rating = int(avg_rating)\n",
      "        num_votes = int(num_votes[1:])\n",
      "        question = rest.split(' ' + str(avg_rating) + ' ')[0]\n",
      "        question = question.replace(' ', '_')\n",
      "        if '_' == question[-1]:\n",
      "            question = question[:-1]\n",
      "        questions_with_rating.append(MERquestion(course, exam, question, avg_rating, num_votes))\n",
      "        \n",
      "all_avg_ratings = []\n",
      "for q in questions_with_rating:\n",
      "    all_avg_ratings.append(q.avg_rating)            "
     ],
     "language": "python",
     "metadata": {},
     "outputs": [],
     "prompt_number": 8
    },
    {
     "cell_type": "markdown",
     "metadata": {},
     "source": [
      "How are the ratings distributed in general? Let's quickly look at a histogram of all average easiness ratings before we move on."
     ]
    },
    {
     "cell_type": "code",
     "collapsed": false,
     "input": [
      "plt.hist(all_avg_ratings, 101)\n",
      "plt.xlim([0, 100])\n",
      "plt.title('Total number of questions with votes: {0}'.format(len(all_avg_ratings)))\n",
      "plt.xlabel('Average easiness rating')\n",
      "plt.ylabel('count')\n",
      "plt.annotate('Mean easiness: {0:.1f} \\nMedian easiness: {1:.1f}'.format(np.mean(all_avg_ratings),\n",
      "                                                                        np.median(all_avg_ratings)),\n",
      "             xy=(20, 40))\n",
      "plt.show()"
     ],
     "language": "python",
     "metadata": {},
     "outputs": [
      {
       "metadata": {},
       "output_type": "display_data",
       "png": "[encoded data removed]",
       "text": [
        "<matplotlib.figure.Figure at 0x105e80590>"
       ]
      }
     ],
     "prompt_number": 9
    },
    {
     "cell_type": "markdown",
     "metadata": {},
     "source": [
      "We see that 100% easiness is by far the most popular single rating. In general, easier ratings are more popular. It is also interesting to observe the spikes at 0, 20, 40, 50, 60, 70, 80, 90, indicating that many students vote on a 11-scale basis instead of the provided 101 options."
     ]
    },
    {
     "cell_type": "markdown",
     "metadata": {},
     "source": [
      "To continue with our correlation analysis we grab the avgerage time from the corresponding questions in our latest data set from April 30th 2014."
     ]
    },
    {
     "cell_type": "code",
     "collapsed": false,
     "input": [
      "dict_all,date_clicks,num_clicks = data_to_dict_clickdates_clickscount('MER_20140430.csv')\n",
      "\n",
      "all_avg_times = []\n",
      "for q in questions_with_rating:\n",
      "    try:\n",
      "        q.avg_time = dict_all[q.course][q.exam][q.question]['avg_time']\n",
      "    except KeyError:\n",
      "        q.avg_time = dict_all[q.course][q.exam][q.question.replace('Question_0', 'Question_')]['avg_time']\n",
      "    all_avg_times.append(q.avg_time)"
     ],
     "language": "python",
     "metadata": {},
     "outputs": [],
     "prompt_number": 4
    },
    {
     "cell_type": "markdown",
     "metadata": {},
     "source": [
      "Great, we finally have all the pieces we need and can now correlate and plot our two variables:"
     ]
    },
    {
     "cell_type": "code",
     "collapsed": false,
     "input": [
      "from scipy import stats\n",
      "\n",
      "all_avg_ratings = np.asarray(all_avg_ratings)\n",
      "all_avg_times = np.asarray(all_avg_times)\n",
      "slope, intercept, r_value, p_value, std_err = stats.linregress(all_avg_ratings, all_avg_times)\n",
      "\n",
      "line = slope*all_avg_ratings+intercept\n",
      "plt.figure(figsize=(12,3))\n",
      "plt.plot(all_avg_ratings, all_avg_times, 'ko', all_avg_ratings, line, 'r-')\n",
      "plt.xlabel('Average easiness rating (0=hard, 100=easy)')\n",
      "plt.ylabel('Average time spent on question page [seconds]')\n",
      "plt.annotate('$r^2$ = {0:.2f} \\np = {1:.2e}'.format(r_value**2, p_value), xy=(60, 650))\n",
      "plt.savefig('easiness_vs_time_spent.png')"
     ],
     "language": "python",
     "metadata": {},
     "outputs": [
      {
       "metadata": {},
       "output_type": "display_data",
       "png": "[encoded data removed]",
       "text": [
        "<matplotlib.figure.Figure at 0x105ecb710>"
       ]
      }
     ],
     "prompt_number": 5
    },
    {
     "cell_type": "markdown",
     "metadata": {},
     "source": [
      "We see that indeed there is a negative correlation between the average easiness rating and the time spent on a question page! The extremely small $p$ value indicates that the null-hypothesis, that there is no correlation, can be rejected with overwhelming certainty.\n",
      "\n",
      "We also see quite a bit of variability, and that the easiness of a question does not completely explain the average time spent on a page. Indeed, $r^2 = 0.15$ can losely be interpreted as follows: \"Fifteen percent of the variation in the average time spent on the page can be explained by the average easiness rating of the question\" ([see wikipedia](http://en.wikipedia.org/wiki/Coefficient_of_determination#In_a_linear_model))."
     ]
    },
    {
     "cell_type": "markdown",
     "metadata": {},
     "source": [
      "## Conclusion on part 1##\n",
      "\n",
      "Confirming our intuition, we find a negative correlation between the easiness rating of an exam question and the average time spent on the corresponding question page: The easier the question, the less time is spent on the question page and vice versa.\n",
      "\n",
      "At the same time, the variability is quite large, so that the average time spent on a page only predicts about 15% of the average easiness. On a per-question basis the predictive power of the average time spent on a question page to predict the average easiness of that question is therefore limited."
     ]
    },
    {
     "cell_type": "markdown",
     "metadata": {},
     "source": [
      "# Correlation of the average rating with the average exam score #\n",
      "\n",
      "We have anonymous exam scores of one of the sections of the Math 103 April 2013 Exam. We will compare the exam score with the easiness rating of the April 2014 class. Our hypothesis is that the easiness score of one class is a good predictor for the exam score of the other class. If this holds, then the easiness score could provide valuable insight into exam design."
     ]
    },
    {
     "cell_type": "markdown",
     "metadata": {},
     "source": [
      "We first read in the average score from the real exam."
     ]
    },
    {
     "cell_type": "code",
     "collapsed": false,
     "input": [
      "def rename(x):\n",
      "    if x[0:2] == '10':\n",
      "        x = 'Question_' + x.strip()\n",
      "    else:\n",
      "        x = 'Question_0' + x.strip()\n",
      "    if len(x) == 11:\n",
      "        return x\n",
      "    if len(x) == 12:\n",
      "        return x[:11] + '_(' + x[11] + ')'\n",
      "    if len(x) > 12:\n",
      "        return x[:11] + '_(' + x[11] + ')_' + x[12:]\n",
      "\n",
      "with open('MATH103_2013_FinalExamGradesPerQuestionAnonymous.csv', 'r') as data:\n",
      "    for line in data:\n",
      "        if 'Q' == line[0]:\n",
      "            questions = [rename(q) for q in line.split(',')[1:]]\n",
      "        elif line[0] in ['M', 'S']:\n",
      "            continue\n",
      "        else: \n",
      "            scores = [float(s.strip()) for s in line.split(',')[1:]]\n",
      "    assert len(questions) == len(scores)"
     ],
     "language": "python",
     "metadata": {},
     "outputs": [
      {
       "ename": "IOError",
       "evalue": "[Errno 2] No such file or directory: 'MATH103_2013_FinalExamGradesPerQuestionAnonymous.csv'",
       "output_type": "pyerr",
       "traceback": [
        "\u001b[0;31m---------------------------------------------------------------------------\u001b[0m\n\u001b[0;31mIOError\u001b[0m                                   Traceback (most recent call last)",
        "\u001b[0;32m<ipython-input-6-bb7837bf3aeb>\u001b[0m in \u001b[0;36m<module>\u001b[0;34m()\u001b[0m\n\u001b[1;32m     11\u001b[0m         \u001b[0;32mreturn\u001b[0m \u001b[0mx\u001b[0m\u001b[0;34m[\u001b[0m\u001b[0;34m:\u001b[0m\u001b[0;36m11\u001b[0m\u001b[0;34m]\u001b[0m \u001b[0;34m+\u001b[0m \u001b[0;34m'_('\u001b[0m \u001b[0;34m+\u001b[0m \u001b[0mx\u001b[0m\u001b[0;34m[\u001b[0m\u001b[0;36m11\u001b[0m\u001b[0;34m]\u001b[0m \u001b[0;34m+\u001b[0m \u001b[0;34m')_'\u001b[0m \u001b[0;34m+\u001b[0m \u001b[0mx\u001b[0m\u001b[0;34m[\u001b[0m\u001b[0;36m12\u001b[0m\u001b[0;34m:\u001b[0m\u001b[0;34m]\u001b[0m\u001b[0;34m\u001b[0m\u001b[0m\n\u001b[1;32m     12\u001b[0m \u001b[0;34m\u001b[0m\u001b[0m\n\u001b[0;32m---> 13\u001b[0;31m \u001b[0;32mwith\u001b[0m \u001b[0mopen\u001b[0m\u001b[0;34m(\u001b[0m\u001b[0;34m'MATH103_2013_FinalExamGradesPerQuestionAnonymous.csv'\u001b[0m\u001b[0;34m,\u001b[0m \u001b[0;34m'r'\u001b[0m\u001b[0;34m)\u001b[0m \u001b[0;32mas\u001b[0m \u001b[0mdata\u001b[0m\u001b[0;34m:\u001b[0m\u001b[0;34m\u001b[0m\u001b[0m\n\u001b[0m\u001b[1;32m     14\u001b[0m     \u001b[0;32mfor\u001b[0m \u001b[0mline\u001b[0m \u001b[0;32min\u001b[0m \u001b[0mdata\u001b[0m\u001b[0;34m:\u001b[0m\u001b[0;34m\u001b[0m\u001b[0m\n\u001b[1;32m     15\u001b[0m         \u001b[0;32mif\u001b[0m \u001b[0;34m'Q'\u001b[0m \u001b[0;34m==\u001b[0m \u001b[0mline\u001b[0m\u001b[0;34m[\u001b[0m\u001b[0;36m0\u001b[0m\u001b[0;34m]\u001b[0m\u001b[0;34m:\u001b[0m\u001b[0;34m\u001b[0m\u001b[0m\n",
        "\u001b[0;31mIOError\u001b[0m: [Errno 2] No such file or directory: 'MATH103_2013_FinalExamGradesPerQuestionAnonymous.csv'"
       ]
      }
     ],
     "prompt_number": 6
    },
    {
     "cell_type": "markdown",
     "metadata": {},
     "source": [
      "Next, we extract the easiness rating for all questions on this Math 103 April 2013 exam"
     ]
    },
    {
     "cell_type": "code",
     "collapsed": false,
     "input": [
      "exam_ratings = []\n",
      "exam_scores = []\n",
      "for num, q in enumerate(questions):\n",
      "    for r in questions_with_rating:\n",
      "        if r.course == 'MATH103' and r.exam == 'April_2013' and r.question == q:\n",
      "            r.exam_score = scores[num]*100\n",
      "            exam_ratings.append(r.avg_rating)\n",
      "            exam_scores.append(r.exam_score)\n",
      "\n",
      "exam_ratings = np.asarray(exam_ratings)\n",
      "exam_scores = np.asarray(exam_scores)"
     ],
     "language": "python",
     "metadata": {},
     "outputs": [
      {
       "ename": "NameError",
       "evalue": "name 'questions' is not defined",
       "output_type": "pyerr",
       "traceback": [
        "\u001b[0;31m---------------------------------------------------------------------------\u001b[0m\n\u001b[0;31mNameError\u001b[0m                                 Traceback (most recent call last)",
        "\u001b[0;32m<ipython-input-7-6dba3933765d>\u001b[0m in \u001b[0;36m<module>\u001b[0;34m()\u001b[0m\n\u001b[1;32m      1\u001b[0m \u001b[0mexam_ratings\u001b[0m \u001b[0;34m=\u001b[0m \u001b[0;34m[\u001b[0m\u001b[0;34m]\u001b[0m\u001b[0;34m\u001b[0m\u001b[0m\n\u001b[1;32m      2\u001b[0m \u001b[0mexam_scores\u001b[0m \u001b[0;34m=\u001b[0m \u001b[0;34m[\u001b[0m\u001b[0;34m]\u001b[0m\u001b[0;34m\u001b[0m\u001b[0m\n\u001b[0;32m----> 3\u001b[0;31m \u001b[0;32mfor\u001b[0m \u001b[0mnum\u001b[0m\u001b[0;34m,\u001b[0m \u001b[0mq\u001b[0m \u001b[0;32min\u001b[0m \u001b[0menumerate\u001b[0m\u001b[0;34m(\u001b[0m\u001b[0mquestions\u001b[0m\u001b[0;34m)\u001b[0m\u001b[0;34m:\u001b[0m\u001b[0;34m\u001b[0m\u001b[0m\n\u001b[0m\u001b[1;32m      4\u001b[0m     \u001b[0;32mfor\u001b[0m \u001b[0mr\u001b[0m \u001b[0;32min\u001b[0m \u001b[0mquestions_with_rating\u001b[0m\u001b[0;34m:\u001b[0m\u001b[0;34m\u001b[0m\u001b[0m\n\u001b[1;32m      5\u001b[0m         \u001b[0;32mif\u001b[0m \u001b[0mr\u001b[0m\u001b[0;34m.\u001b[0m\u001b[0mcourse\u001b[0m \u001b[0;34m==\u001b[0m \u001b[0;34m'MATH103'\u001b[0m \u001b[0;32mand\u001b[0m \u001b[0mr\u001b[0m\u001b[0;34m.\u001b[0m\u001b[0mexam\u001b[0m \u001b[0;34m==\u001b[0m \u001b[0;34m'April_2013'\u001b[0m \u001b[0;32mand\u001b[0m \u001b[0mr\u001b[0m\u001b[0;34m.\u001b[0m\u001b[0mquestion\u001b[0m \u001b[0;34m==\u001b[0m \u001b[0mq\u001b[0m\u001b[0;34m:\u001b[0m\u001b[0;34m\u001b[0m\u001b[0m\n",
        "\u001b[0;31mNameError\u001b[0m: name 'questions' is not defined"
       ]
      }
     ],
     "prompt_number": 7
    },
    {
     "cell_type": "markdown",
     "metadata": {},
     "source": [
      "That's it, we can now compare the easiness rating (perceived difficulty) with the exam rating (actual difficulty) on a question-by-question basis."
     ]
    },
    {
     "cell_type": "code",
     "collapsed": false,
     "input": [
      "bar_width = 0.4\n",
      "index = np.arange(len(exam_ratings))\n",
      "alpha = 0.4\n",
      "\n",
      "plt.figure(figsize(14,6))\n",
      "plt.bar(index, exam_ratings, bar_width,\n",
      "        alpha = alpha,\n",
      "        color='b',\n",
      "        label='easiness')\n",
      "\n",
      "plt.bar(index + bar_width, exam_scores, bar_width,\n",
      "        alpha = alpha,\n",
      "        color='r',\n",
      "        label='exam')\n",
      "\n",
      "plt.plot(index+bar_width, [np.mean(exam_ratings) for x in index], 'b', alpha=alpha)\n",
      "plt.plot(index+bar_width, [np.mean(exam_scores) for x in index], 'r', alpha=alpha)\n",
      "plt.legend(loc='upper left')\n",
      "plt.xticks(index+bar_width, [q.replace('Question','').replace('_0','').replace('_',' ') for q in questions])\n",
      "plt.xticks(rotation=70)\n",
      "plt.xlabel('question number')\n",
      "plt.ylabel('easiness / exam score')\n",
      "plt.title('Math 103 April 2013 exam')\n",
      "plt.tight_layout()\n",
      "plt.show()"
     ],
     "language": "python",
     "metadata": {},
     "outputs": []
    },
    {
     "cell_type": "markdown",
     "metadata": {},
     "source": [
      "For each question, the left bar can be interpreted as the average prediction that students have about the score they would receive on this question on the exam, and the right bar is the average score that was actually received by students taking that exam in 2013. The horizontal lines are the average score over all questions and are remarkably close, and shows that overall students perform slightly better on the final exam than during their exam preparation. In general we observe that students easiness rating are pretty similar to real ratings from the exam. Certainly students \"correctly\" identify easy from difficult questions with few exceptions:\n",
      "* Q7(e) is perceived relatively easy but was the question with the lowest score on the exam. This questions builds on the previous parts of Q7 and many students received a score of 0 on this question (and previous parts of Q7). So maybe Q7(e) itself is not so difficult if you know the solution to Q7(a)-(d), which students on the wiki would, but impossible to solve without having correct stolutions to the other parts of Q7.\n",
      "* Question 8(a) is a simple application of the Fundamental theorem of calculus. Students perceive this question as the easiest on the entire exam, yet the exam score was below average.\n",
      "* Similarly wih 8(b), another simple application of the Fundamental theorem of calculus, and again students perceive the question as relatively simple, yet the exam score is relatively low.\n",
      "* Question 8(c) can either be solved quickly and elegantly when the Fundamental theorem of calculus is applied, but can also be solved directly after a lengthy computation. Now students perceive the question as much harder, and indeed, the exam score is the lowest among all questions on the Fundamental theorem of calculus. Taken together with the observations above, a reasonable hypothesis is that many students of the April 2013 class were not able to apply the Fundamental theorem of calculus correctly, whereas following classes had a much better understanding of this type of question."
     ]
    },
    {
     "cell_type": "markdown",
     "metadata": {},
     "source": [
      "Back to the correlation between the easiness rating and the exam score. We have all the data ready, so let's just do a linear regression and plot the result."
     ]
    },
    {
     "cell_type": "code",
     "collapsed": false,
     "input": [
      "exam_slope, exam_intercept, exam_r_value, exam_p_value, exam_std_err = stats.linregress(exam_ratings, exam_scores)\n",
      "\n",
      "exam_line = exam_slope*exam_ratings+exam_intercept\n",
      "plt.figure(figsize=(6,6))\n",
      "plt.plot(range(100), range(100), 'b--',\n",
      "         exam_ratings, exam_scores, 'ko',\n",
      "         exam_ratings, exam_line, 'r-')\n",
      "\n",
      "plt.xlabel('Easiness rating')\n",
      "plt.ylabel('Exam score')\n",
      "plt.grid('on')\n",
      "plt.annotate('$r^2$: {0:.2f}\\n$p$: {1:.1e}'.format(exam_r_value**2, exam_p_value), xy=(10, 80))\n",
      "plt.xlim(0, 100)\n",
      "plt.ylim(0, 100)\n",
      "plt.show()"
     ],
     "language": "python",
     "metadata": {},
     "outputs": [
      {
       "output_type": "stream",
       "stream": "stderr",
       "text": [
        "//anaconda/lib/python2.7/site-packages/numpy/core/_methods.py:55: RuntimeWarning: Mean of empty slice.\n",
        "  warnings.warn(\"Mean of empty slice.\", RuntimeWarning)\n",
        "//anaconda/lib/python2.7/site-packages/numpy/core/_methods.py:67: RuntimeWarning: invalid value encountered in double_scalars\n",
        "  ret = ret.dtype.type(ret / rcount)\n"
       ]
      },
      {
       "ename": "ValueError",
       "evalue": "need more than 0 values to unpack",
       "output_type": "pyerr",
       "traceback": [
        "\u001b[0;31m---------------------------------------------------------------------------\u001b[0m\n\u001b[0;31mValueError\u001b[0m                                Traceback (most recent call last)",
        "\u001b[0;32m<ipython-input-10-c96bae75ef6b>\u001b[0m in \u001b[0;36m<module>\u001b[0;34m()\u001b[0m\n\u001b[0;32m----> 1\u001b[0;31m \u001b[0mexam_slope\u001b[0m\u001b[0;34m,\u001b[0m \u001b[0mexam_intercept\u001b[0m\u001b[0;34m,\u001b[0m \u001b[0mexam_r_value\u001b[0m\u001b[0;34m,\u001b[0m \u001b[0mexam_p_value\u001b[0m\u001b[0;34m,\u001b[0m \u001b[0mexam_std_err\u001b[0m \u001b[0;34m=\u001b[0m \u001b[0mstats\u001b[0m\u001b[0;34m.\u001b[0m\u001b[0mlinregress\u001b[0m\u001b[0;34m(\u001b[0m\u001b[0mexam_ratings\u001b[0m\u001b[0;34m,\u001b[0m \u001b[0mexam_scores\u001b[0m\u001b[0;34m)\u001b[0m\u001b[0;34m\u001b[0m\u001b[0m\n\u001b[0m\u001b[1;32m      2\u001b[0m \u001b[0;34m\u001b[0m\u001b[0m\n\u001b[1;32m      3\u001b[0m \u001b[0mexam_line\u001b[0m \u001b[0;34m=\u001b[0m \u001b[0mexam_slope\u001b[0m\u001b[0;34m*\u001b[0m\u001b[0mexam_ratings\u001b[0m\u001b[0;34m+\u001b[0m\u001b[0mexam_intercept\u001b[0m\u001b[0;34m\u001b[0m\u001b[0m\n\u001b[1;32m      4\u001b[0m \u001b[0mplt\u001b[0m\u001b[0;34m.\u001b[0m\u001b[0mfigure\u001b[0m\u001b[0;34m(\u001b[0m\u001b[0mfigsize\u001b[0m\u001b[0;34m=\u001b[0m\u001b[0;34m(\u001b[0m\u001b[0;36m6\u001b[0m\u001b[0;34m,\u001b[0m\u001b[0;36m6\u001b[0m\u001b[0;34m)\u001b[0m\u001b[0;34m)\u001b[0m\u001b[0;34m\u001b[0m\u001b[0m\n\u001b[1;32m      5\u001b[0m plt.plot(range(100), range(100), 'b--',\n",
        "\u001b[0;32m//anaconda/lib/python2.7/site-packages/scipy/stats/stats.pyc\u001b[0m in \u001b[0;36mlinregress\u001b[0;34m(x, y)\u001b[0m\n\u001b[1;32m   3098\u001b[0m \u001b[0;34m\u001b[0m\u001b[0m\n\u001b[1;32m   3099\u001b[0m     \u001b[0;31m# average sum of squares:\u001b[0m\u001b[0;34m\u001b[0m\u001b[0;34m\u001b[0m\u001b[0m\n\u001b[0;32m-> 3100\u001b[0;31m     \u001b[0mssxm\u001b[0m\u001b[0;34m,\u001b[0m \u001b[0mssxym\u001b[0m\u001b[0;34m,\u001b[0m \u001b[0mssyxm\u001b[0m\u001b[0;34m,\u001b[0m \u001b[0mssym\u001b[0m \u001b[0;34m=\u001b[0m \u001b[0mnp\u001b[0m\u001b[0;34m.\u001b[0m\u001b[0mcov\u001b[0m\u001b[0;34m(\u001b[0m\u001b[0mx\u001b[0m\u001b[0;34m,\u001b[0m \u001b[0my\u001b[0m\u001b[0;34m,\u001b[0m \u001b[0mbias\u001b[0m\u001b[0;34m=\u001b[0m\u001b[0;36m1\u001b[0m\u001b[0;34m)\u001b[0m\u001b[0;34m.\u001b[0m\u001b[0mflat\u001b[0m\u001b[0;34m\u001b[0m\u001b[0m\n\u001b[0m\u001b[1;32m   3101\u001b[0m     \u001b[0mr_num\u001b[0m \u001b[0;34m=\u001b[0m \u001b[0mssxym\u001b[0m\u001b[0;34m\u001b[0m\u001b[0m\n\u001b[1;32m   3102\u001b[0m     \u001b[0mr_den\u001b[0m \u001b[0;34m=\u001b[0m \u001b[0mnp\u001b[0m\u001b[0;34m.\u001b[0m\u001b[0msqrt\u001b[0m\u001b[0;34m(\u001b[0m\u001b[0mssxm\u001b[0m\u001b[0;34m*\u001b[0m\u001b[0mssym\u001b[0m\u001b[0;34m)\u001b[0m\u001b[0;34m\u001b[0m\u001b[0m\n",
        "\u001b[0;31mValueError\u001b[0m: need more than 0 values to unpack"
       ]
      }
     ],
     "prompt_number": 10
    },
    {
     "cell_type": "markdown",
     "metadata": {},
     "source": [
      "The dashed blue line indicates the perfect scenario where the average easiness rating corresponds exactly to the average exam score. The slope of the red linear regression line is less than 1 and crosses the identity line close to the average scores. This indicates that students underperform on questions that they perceive as easy, and overperform on questions that they perceive as difficult. Or, spinned the other way around: students tend to rate low-scoring exam questions as too easy, and high-scoring exam questions as too difficult.\n",
      "\n",
      "Still, the very low $p$-value indicates, not surprisingly, that there is a significant correlation between the students' perception of the difficulty of a question and their score on the exam. The $r^2$-value of 0.4 is larger than for the first part of the analysis and indicates that students' perception of difficulty is able to explain about 40% of the real exam score."
     ]
    }
   ],
   "metadata": {}
  }
 ]
}